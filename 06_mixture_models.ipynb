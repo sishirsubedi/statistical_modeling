{
 "cells": [
  {
   "cell_type": "code",
   "execution_count": 34,
   "metadata": {},
   "outputs": [],
   "source": [
    "from pomegranate import *\n",
    "import matplotlib.pyplot as plt\n",
    "import numpy as np"
   ]
  },
  {
   "cell_type": "code",
   "execution_count": 21,
   "metadata": {},
   "outputs": [],
   "source": [
    "n1 = NormalDistribution( 500, 100 )\n",
    "e1 = ExponentialDistribution(1/50)"
   ]
  },
  {
   "cell_type": "code",
   "execution_count": 32,
   "metadata": {},
   "outputs": [
    {
     "data": {
      "image/png": "[encoded data removed]",
      "text/plain": [
       "<Figure size 720x432 with 1 Axes>"
      ]
     },
     "metadata": {
      "needs_background": "light"
     },
     "output_type": "display_data"
    }
   ],
   "source": [
    "plt.figure( figsize=(10,6) )\n",
    "n1.plot( n=10000,  bins=25 ,  facecolor='g')\n",
    "e1.plot( n=10000,  bins=25 ,  facecolor='b')"
   ]
  },
  {
   "cell_type": "code",
   "execution_count": 42,
   "metadata": {},
   "outputs": [
    {
     "data": {
      "text/plain": [
       "(array([487., 247., 133.,  63.,  35.,  15.,   7.,  15.,  20.,  29.,  45.,\n",
       "         61., 101., 126., 135., 128., 111.,  95.,  53.,  49.,  27.,   6.,\n",
       "          8.,   2.,   2.]),\n",
       " array([1.54034492e-01, 3.33655022e+01, 6.65769699e+01, 9.97884376e+01,\n",
       "        1.32999905e+02, 1.66211373e+02, 1.99422841e+02, 2.32634308e+02,\n",
       "        2.65845776e+02, 2.99057244e+02, 3.32268711e+02, 3.65480179e+02,\n",
       "        3.98691647e+02, 4.31903115e+02, 4.65114582e+02, 4.98326050e+02,\n",
       "        5.31537518e+02, 5.64748985e+02, 5.97960453e+02, 6.31171921e+02,\n",
       "        6.64383388e+02, 6.97594856e+02, 7.30806324e+02, 7.64017792e+02,\n",
       "        7.97229259e+02, 8.30440727e+02]),\n",
       " <a list of 25 Patch objects>)"
      ]
     },
     "execution_count": 42,
     "metadata": {},
     "output_type": "execute_result"
    },
    {
     "data": {
      "image/png": "[encoded data removed]",
      "text/plain": [
       "<Figure size 432x288 with 1 Axes>"
      ]
     },
     "metadata": {
      "needs_background": "light"
     },
     "output_type": "display_data"
    }
   ],
   "source": [
    "sample = np.concatenate([n1.sample(n=1000),e1.sample(n=1000)])\n",
    "plt.hist(sample, bins=25 ,  facecolor='g')"
   ]
  },
  {
   "cell_type": "code",
   "execution_count": 71,
   "metadata": {},
   "outputs": [],
   "source": [
    "mix_model = GeneralMixtureModel( [NormalDistribution(200, 100), ExponentialDistribution(1/10)])"
   ]
  },
  {
   "cell_type": "code",
   "execution_count": 72,
   "metadata": {},
   "outputs": [
    {
     "data": {
      "image/png": "[encoded data removed]",
      "text/plain": [
       "<Figure size 720x432 with 1 Axes>"
      ]
     },
     "metadata": {
      "needs_background": "light"
     },
     "output_type": "display_data"
    }
   ],
   "source": [
    "mix_model.fit(sample.reshape(-1,1))\n",
    "labels = mix_model.predict( sample.reshape(-1,1) )\n",
    "plt.figure( figsize=(10,6) )\n",
    "plt.hist( sample[ labels == 0 ], edgecolor='r', color='r', bins=20 )\n",
    "plt.hist( sample[ labels == 1 ], edgecolor='b', color='b', bins=20 )\n",
    "plt.show()"
   ]
  },
  {
   "cell_type": "code",
   "execution_count": 73,
   "metadata": {},
   "outputs": [
    {
     "data": {
      "text/plain": [
       "{\n",
       "    \"weights\" : [\n",
       "        0.5033860972801127,\n",
       "        0.4966139027198872\n",
       "    ],\n",
       "    \"distributions\" : [\n",
       "        {\n",
       "            \"class\" : \"Distribution\",\n",
       "            \"frozen\" : false,\n",
       "            \"name\" : \"NormalDistribution\",\n",
       "            \"parameters\" : [\n",
       "                493.8466455526328,\n",
       "                100.98116574465492\n",
       "            ]\n",
       "        },\n",
       "        {\n",
       "            \"class\" : \"Distribution\",\n",
       "            \"frozen\" : false,\n",
       "            \"name\" : \"ExponentialDistribution\",\n",
       "            \"parameters\" : [\n",
       "                0.020324841915690374\n",
       "            ]\n",
       "        }\n",
       "    ],\n",
       "    \"class\" : \"GeneralMixtureModel\"\n",
       "}"
      ]
     },
     "execution_count": 73,
     "metadata": {},
     "output_type": "execute_result"
    }
   ],
   "source": [
    "mix_model"
   ]
  },
  {
   "cell_type": "code",
   "execution_count": null,
   "metadata": {},
   "outputs": [],
   "source": []
  }
 ],
 "metadata": {
  "kernelspec": {
   "display_name": "Python 3",
   "language": "python",
   "name": "python3"
  },
  "language_info": {
   "codemirror_mode": {
    "name": "ipython",
    "version": 3
   },
   "file_extension": ".py",
   "mimetype": "text/x-python",
   "name": "python",
   "nbconvert_exporter": "python",
   "pygments_lexer": "ipython3",
   "version": "3.4.8"
  }
 },
 "nbformat": 4,
 "nbformat_minor": 2
}
