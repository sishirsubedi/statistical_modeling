{
 "cells": [
  {
   "cell_type": "code",
   "execution_count": 59,
   "metadata": {},
   "outputs": [],
   "source": [
    "REF=[\"CCAG\"]\n",
    "# ALT=[\"ACAG\",\"CAAA\",\"CAGG\",\"CCCACAG\",\"CTCAG\",\"GCAG\",\"TCAG\"]\n",
    "ALT=[\"ACAG\",\"CAAA\",\"CAGG\",\"CCCACAG\",\"CTCAG\",\"GCAG\",\"TCAG\"]"
   ]
  },
  {
   "cell_type": "code",
   "execution_count": 60,
   "metadata": {},
   "outputs": [
    {
     "name": "stdout",
     "output_type": "stream",
     "text": [
      "['CCAG']\n",
      "['ACAG', 'CAAA', 'CAGG', 'CCCACAG', 'CTCAG', 'GCAG', 'TCAG']\n"
     ]
    }
   ],
   "source": [
    "print(REF)\n",
    "print(ALT)"
   ]
  },
  {
   "cell_type": "code",
   "execution_count": 104,
   "metadata": {},
   "outputs": [],
   "source": [
    "def leftParsimony(ref,alt):\n",
    "    ref_ind=0\n",
    "    alt_ind=0\n",
    "    while ref[ref_ind]==alt[alt_ind]:\n",
    "        ref_ind+=1\n",
    "        alt_ind+=1\n",
    "    ref=ref[ref_ind:]\n",
    "    alt=alt[alt_ind:]\n",
    "    if len(ref)>1 and len(alt)>1:\n",
    "        return rightParsimony(ref,alt)\n",
    "    else:\n",
    "        return (ref,alt)\n",
    "\n",
    "def rightParsimony(ref,alt):\n",
    "    ref_ind=len(ref)\n",
    "    alt_ind=len(alt)\n",
    "    while ref[ref_ind-1]==alt[alt_ind-1]:\n",
    "        ref_ind-=1\n",
    "        alt_ind-=1\n",
    "    ref=ref[0:ref_ind]\n",
    "    alt=alt[0:alt_ind]\n",
    "    return(ref,alt)\n",
    "\n",
    "def leftParsimony2(ref,alt):\n",
    "    ref_ind=0\n",
    "    alt_ind=0\n",
    "    while ref[ref_ind]==alt[alt_ind]:\n",
    "        ref_ind+=1\n",
    "        alt_ind+=1\n",
    "    ref=ref[ref_ind:]\n",
    "    alt=alt[alt_ind:]\n",
    "    return (ref,alt)\n",
    "\n",
    "def rightParsimony2(ref,alt):\n",
    "    ref_ind=len(ref)\n",
    "    alt_ind=len(alt)\n",
    "    while ref[ref_ind-1]==alt[alt_ind-1]:\n",
    "        ref_ind-=1\n",
    "        alt_ind-=1\n",
    "    ref=ref[0:ref_ind]\n",
    "    alt=alt[0:alt_ind]\n",
    "    if len(ref)>1 and len(alt)>1:\n",
    "        return leftParsimony2(ref,alt)\n",
    "    else:\n",
    "        return (ref,alt)\n",
    "\n",
    "def leftAlign(ref,alt):\n",
    "    ##truncate from the right end\n",
    "    while len(ref) > 1 and len(alt) > 1:\n",
    "        ##truncate from the right end\n",
    "        if ref[-1] == alt[-1]:\n",
    "            ref = ref[0:-1]\n",
    "            alt = alt[0:-1]\n",
    "        else:\n",
    "            break\n",
    "    ##truncate from the left\n",
    "    while len(ref) > 1 and len(alt) > 1:\n",
    "        ##truncate from the right end\n",
    "        if ref[0] == alt[0]:\n",
    "            ref = ref[1:]\n",
    "            alt = alt[1:]\n",
    "        else:\n",
    "            break\n",
    "    return (ref,alt)"
   ]
  },
  {
   "cell_type": "code",
   "execution_count": 105,
   "metadata": {},
   "outputs": [
    {
     "name": "stdout",
     "output_type": "stream",
     "text": [
      "CCAG ACAG ('C', 'A')\n",
      "CCAG CAAA ('CAG', 'AAA')\n",
      "CCAG CAGG ('CA', 'AG')\n",
      "CCAG CCCACAG ('C', 'CCCA')\n",
      "CCAG CTCAG ('C', 'CT')\n",
      "CCAG GCAG ('C', 'G')\n",
      "CCAG TCAG ('C', 'T')\n"
     ]
    }
   ],
   "source": [
    "for allele in ALT:\n",
    "    lparse=leftAlign(REF[0],allele)\n",
    "    print(REF[0],allele,lparse)"
   ]
  },
  {
   "cell_type": "code",
   "execution_count": 106,
   "metadata": {},
   "outputs": [
    {
     "name": "stdout",
     "output_type": "stream",
     "text": [
      "CCAG ACAG ('C', 'A')\n",
      "CCAG CAAA ('CAG', 'AAA')\n",
      "CCAG CAGG ('CA', 'AG')\n",
      "CCAG CCCACAG ('', 'CAC')\n",
      "CCAG CTCAG ('', 'T')\n",
      "CCAG GCAG ('C', 'G')\n",
      "CCAG TCAG ('C', 'T')\n"
     ]
    }
   ],
   "source": [
    "for allele in ALT:\n",
    "    lparse=leftParsimony(REF[0],allele)\n",
    "    if lparse[1] not in ALT:\n",
    "        print(REF[0],allele,lparse)"
   ]
  },
  {
   "cell_type": "code",
   "execution_count": null,
   "metadata": {},
   "outputs": [],
   "source": []
  }
 ],
 "metadata": {
  "kernelspec": {
   "display_name": "Python 3",
   "language": "python",
   "name": "python3"
  },
  "language_info": {
   "codemirror_mode": {
    "name": "ipython",
    "version": 3
   },
   "file_extension": ".py",
   "mimetype": "text/x-python",
   "name": "python",
   "nbconvert_exporter": "python",
   "pygments_lexer": "ipython3",
   "version": "3.4.8"
  }
 },
 "nbformat": 4,
 "nbformat_minor": 2
}
