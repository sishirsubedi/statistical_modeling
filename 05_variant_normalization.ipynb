{
 "cells": [
  {
   "cell_type": "code",
   "execution_count": 42,
   "metadata": {},
   "outputs": [],
   "source": [
    "REF=[\"CCAG\"]\n",
    "ALT=[\"ACAG\",\"CAAA\",\"CAGG\",\"CCCACAG\",\"CTCAG\",\"GCAG\",\"TCAG\"]"
   ]
  },
  {
   "cell_type": "code",
   "execution_count": 47,
   "metadata": {},
   "outputs": [],
   "source": [
    "#Algorithm for Normalization\n",
    "#https://genome.sph.umich.edu/wiki/Variant_Normalization\n",
    "\n",
    "def leftParsimony(ref,alt):\n",
    "    while ref[0]==alt[0] and len(ref)>1 and len(alt)>1:\n",
    "        ref=ref[1:]\n",
    "        alt=alt[1:]\n",
    "    return (ref,alt)\n",
    "\n",
    "def rightParsimony(ref,alt):\n",
    "    while ref[-1]==alt[-1]:\n",
    "        ref=ref[0:-1]\n",
    "        alt=alt[0:-1]\n",
    "    if len(ref)==0 or len(alt)==0:\n",
    "        print(\"zerrrroooo\")\n",
    "    \n",
    "    ## left parsimonious\n",
    "    if len(ref)>1 and len(alt)>1 and ref[0]==alt[0]:\n",
    "        return leftParsimony(ref,alt)\n",
    "    else:\n",
    "        return (ref,alt)\n"
   ]
  },
  {
   "cell_type": "code",
   "execution_count": 48,
   "metadata": {},
   "outputs": [
    {
     "name": "stdout",
     "output_type": "stream",
     "text": [
      "CCAG ACAG ('C', 'A')\n",
      "CCAG CAAA ('CAG', 'AAA')\n",
      "CCAG CAGG ('CA', 'AG')\n",
      "CCAG CCCACAG ('C', 'CCCA')\n",
      "CCAG CTCAG ('C', 'CT')\n",
      "CCAG GCAG ('C', 'G')\n",
      "CCAG TCAG ('C', 'T')\n"
     ]
    }
   ],
   "source": [
    "for allele in ALT:\n",
    "    lparse=rightParsimony(REF[0],allele)\n",
    "    print(REF[0],allele,lparse)\n",
    "        \n",
    "# CCAG ACAG ('C', 'A')\n",
    "# CCAG CAAA ('CAG', 'AAA')\n",
    "# CCAG CAGG ('CA', 'AG')\n",
    "# CCAG CCCACAG ('C', 'CCCA')\n",
    "# CCAG CTCAG ('C', 'CT')\n",
    "# CCAG GCAG ('C', 'G')\n",
    "# CCAG TCAG ('C', 'T')"
   ]
  },
  {
   "cell_type": "code",
   "execution_count": null,
   "metadata": {},
   "outputs": [],
   "source": [
    "ALT"
   ]
  },
  {
   "cell_type": "code",
   "execution_count": null,
   "metadata": {},
   "outputs": [],
   "source": []
  }
 ],
 "metadata": {
  "kernelspec": {
   "display_name": "Python 3",
   "language": "python",
   "name": "python3"
  },
  "language_info": {
   "codemirror_mode": {
    "name": "ipython",
    "version": 3
   },
   "file_extension": ".py",
   "mimetype": "text/x-python",
   "name": "python",
   "nbconvert_exporter": "python",
   "pygments_lexer": "ipython3",
   "version": "3.4.8"
  }
 },
 "nbformat": 4,
 "nbformat_minor": 2
}
