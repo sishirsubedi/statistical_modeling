{
 "cells": [
  {
   "cell_type": "code",
   "execution_count": 1,
   "metadata": {},
   "outputs": [],
   "source": [
    "from pomegranate import *\n",
    "import matplotlib.pyplot as plt\n",
    "import numpy as np\n",
    "#https://homes.cs.washington.edu/~jmschr/lectures/pomegranate.html"
   ]
  },
  {
   "cell_type": "code",
   "execution_count": 6,
   "metadata": {},
   "outputs": [
    {
     "name": "stdout",
     "output_type": "stream",
     "text": [
      "sequence: CGACTACTGACTACTCGCCGACGCGACTGCCGTCTATACTGCGCATACGGC\n",
      "hmm pred: 001011010101101000001000010100001011110100001110000\n",
      "hmm state 0: CG island\n",
      "hmm state 1: background\n"
     ]
    }
   ],
   "source": [
    "seq = list('CGACTACTGACTACTCGCCGACGCGACTGCCGTCTATACTGCGCATACGGC')\n",
    "\n",
    "d1 = DiscreteDistribution({'A': 0.25, 'C': 0.25, 'G': 0.25, 'T': 0.25})\n",
    "d2 = DiscreteDistribution({'A': 0.10, 'C': 0.40, 'G': 0.40, 'T': 0.10})\n",
    "\n",
    "# General Mixture Model Setup\n",
    "gmm = GeneralMixtureModel( [d1, d2] )\n",
    "\n",
    "# Hidden Markov Model Setup\n",
    "s1 = State( d1, name='background' )\n",
    "s2 = State( d2, name='CG island' )\n",
    "\n",
    "hmm = HiddenMarkovModel('Island Finder')\n",
    "hmm.add_states(s1, s2)\n",
    "hmm.add_transition( hmm.start, s1, 0.5 )\n",
    "hmm.add_transition( hmm.start, s2, 0.5 )\n",
    "hmm.add_transition( s1, s1, 0.5 )\n",
    "hmm.add_transition( s1, s2, 0.5 )\n",
    "hmm.add_transition( s2, s1, 0.5 )\n",
    "hmm.add_transition( s2, s2, 0.5 )\n",
    "hmm.bake()\n",
    "\n",
    "hmm_predictions = hmm.predict( seq )\n",
    "print (\"sequence: {}\".format( ''.join( seq ) ))\n",
    "print (\"hmm pred: {}\".format( ''.join( map( str, hmm_predictions ) ) ))\n",
    "print (\"hmm state 0: {}\".format( hmm.states[0].name ))\n",
    "print (\"hmm state 1: {}\".format( hmm.states[1].name ))"
   ]
  },
  {
   "cell_type": "code",
   "execution_count": 7,
   "metadata": {},
   "outputs": [
    {
     "name": "stdout",
     "output_type": "stream",
     "text": [
      "sequence: CGACTACTGACTACTCGCCGACGCGACTGCCGTCTATACTGCGCATACGGC\n",
      "hmm pred: 111111111111111000000000000000011111111111111110000\n",
      "hmm state 0: CG island\n",
      "hmm state 1: background\n"
     ]
    }
   ],
   "source": [
    "hmm = HiddenMarkovModel('Island Finder')\n",
    "hmm.add_states(s1, s2)\n",
    "hmm.add_transition( hmm.start, s1, 0.5 )\n",
    "hmm.add_transition( hmm.start, s2, 0.5 )\n",
    "hmm.add_transition( s1, s1, 0.9 )\n",
    "hmm.add_transition( s1, s2, 0.1 )\n",
    "hmm.add_transition( s2, s1, 0.1 )\n",
    "hmm.add_transition( s2, s2, 0.9 )\n",
    "hmm.bake()\n",
    "\n",
    "hmm_predictions = hmm.predict( seq )\n",
    "print (\"sequence: {}\".format( ''.join( seq ) ))\n",
    "print (\"hmm pred: {}\".format( ''.join( map( str, hmm_predictions ) ) ))\n",
    "print (\"hmm state 0: {}\".format( hmm.states[0].name ))\n",
    "print (\"hmm state 1: {}\".format( hmm.states[1].name ))"
   ]
  },
  {
   "cell_type": "code",
   "execution_count": 8,
   "metadata": {},
   "outputs": [
    {
     "name": "stdout",
     "output_type": "stream",
     "text": [
      "[[0.47390247 0.52609753]\n",
      " [0.41187375 0.58812625]\n",
      " [0.27580345 0.72419655]\n",
      " [0.24719016 0.75280984]\n",
      " [0.15171814 0.84828186]\n",
      " [0.13033134 0.86966866]\n",
      " [0.1624717  0.8375283 ]\n",
      " [0.13832275 0.86167725]\n",
      " [0.16985019 0.83014981]\n",
      " [0.14476649 0.85523351]\n",
      " [0.17709218 0.82290782]\n",
      " [0.15249086 0.84750914]\n",
      " [0.18737634 0.81262366]\n",
      " [0.31528228 0.68471772]\n",
      " [0.36902072 0.63097928]\n",
      " [0.56463148 0.43536852]\n",
      " [0.6751991  0.3248009 ]\n",
      " [0.73144067 0.26855933]\n",
      " [0.74898079 0.25101921]\n",
      " [0.73269232 0.26730768]\n",
      " [0.67805013 0.32194987]\n",
      " [0.73204153 0.26795847]\n",
      " [0.74770758 0.25229242]\n",
      " [0.72940052 0.27059948]\n",
      " [0.67203441 0.32796559]\n",
      " [0.55967224 0.44032776]\n",
      " [0.56565021 0.43434979]\n",
      " [0.52127218 0.47872782]\n",
      " [0.5849069  0.4150931 ]\n",
      " [0.5973457  0.4026543 ]\n",
      " [0.56204426 0.43795574]\n",
      " [0.46919539 0.53080461]\n",
      " [0.29300451 0.70699549]\n",
      " [0.24354351 0.75645649]\n",
      " [0.12058254 0.87941746]\n",
      " [0.07797989 0.92202011]\n",
      " [0.07478375 0.92521625]\n",
      " [0.10792184 0.89207816]\n",
      " [0.20924815 0.79075185]\n",
      " [0.24263983 0.75736017]\n",
      " [0.38045109 0.61954891]\n",
      " [0.44286054 0.55713946]\n",
      " [0.44720629 0.55279371]\n",
      " [0.39469565 0.60530435]\n",
      " [0.2707405  0.7292595 ]\n",
      " [0.24890078 0.75109922]\n",
      " [0.30818305 0.69181695]\n",
      " [0.50557241 0.49442759]\n",
      " [0.61464615 0.38535385]\n",
      " [0.66570631 0.33429369]\n",
      " [0.67293805 0.32706195]]\n"
     ]
    }
   ],
   "source": [
    "print (hmm.predict_proba( seq ))"
   ]
  },
  {
   "cell_type": "code",
   "execution_count": null,
   "metadata": {},
   "outputs": [],
   "source": []
  }
 ],
 "metadata": {
  "kernelspec": {
   "display_name": "Python 3",
   "language": "python",
   "name": "python3"
  },
  "language_info": {
   "codemirror_mode": {
    "name": "ipython",
    "version": 3
   },
   "file_extension": ".py",
   "mimetype": "text/x-python",
   "name": "python",
   "nbconvert_exporter": "python",
   "pygments_lexer": "ipython3",
   "version": "3.4.8"
  }
 },
 "nbformat": 4,
 "nbformat_minor": 2
}
