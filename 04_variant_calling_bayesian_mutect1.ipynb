{
 "cells": [
  {
   "cell_type": "code",
   "execution_count": 17,
   "metadata": {},
   "outputs": [],
   "source": [
    "import pandas as pd\n",
    "import numpy as np\n",
    "\n",
    "# based on mutect variant calling\n",
    "# https://www.nature.com/articles/nbt.2514"
   ]
  },
  {
   "cell_type": "code",
   "execution_count": 115,
   "metadata": {},
   "outputs": [],
   "source": [
    "def liklihood(m,ref,r,e,f):\n",
    "    score=e/3.0\n",
    "    if ref==r:\n",
    "        score = (f**(e/3.0))+((1.0-f)*(1-e))\n",
    "    elif r==m:\n",
    "        score = f*(1.0-e)+((1-f)**(e/3))\n",
    "    return score \n",
    "\n",
    "def calFreq(m,reads):\n",
    "    occur=[1 for x in reads if x==m]\n",
    "    return np.sum(occur)/len(reads)\n",
    "\n",
    "def score(mtype,model,ref,reads,phreds,model_prior,allel_freq_prior):\n",
    "    lod_score=0.0\n",
    "    f=0.0\n",
    "    if mtype=='alt':\n",
    "        f=calFreq(m,reads)\n",
    "        \n",
    "    for read,phred in zip(reads,phreds):\n",
    "        lod_score += liklihood(model,ref,read,10**(-phred/10),f)*model_prior*allel_freq_prior\n",
    "        \n",
    "    return lod_score"
   ]
  },
  {
   "cell_type": "code",
   "execution_count": 116,
   "metadata": {},
   "outputs": [],
   "source": [
    "model_prior=10**(-6)\n",
    "allel_freq_prior=0.25\n",
    "\n",
    "model='y'\n",
    "ref='t'\n",
    "reads=['t']*500\n",
    "phreds=[50.0]*500\n"
   ]
  },
  {
   "cell_type": "code",
   "execution_count": 123,
   "metadata": {},
   "outputs": [
    {
     "name": "stdout",
     "output_type": "stream",
     "text": [
      "0.0001250000000000014 0.00012499875000000077 1.000010000100006 4.342966536102787e-06\n"
     ]
    }
   ],
   "source": [
    "alt=score('alt',model,ref,reads,phreds,model_prior,allel_freq_prior)\n",
    "null=score('null',model,ref,reads,phreds,model_prior,allel_freq_prior)\n",
    "      \n",
    "print(alt,null,alt/null, np.log10(alt/null))"
   ]
  },
  {
   "cell_type": "code",
   "execution_count": 122,
   "metadata": {},
   "outputs": [
    {
     "name": "stdout",
     "output_type": "stream",
     "text": [
      "3.3333333333333335\n"
     ]
    }
   ],
   "source": [
    "print(liklihood('a','a','t',10,0.7))"
   ]
  },
  {
   "cell_type": "code",
   "execution_count": null,
   "metadata": {},
   "outputs": [],
   "source": []
  }
 ],
 "metadata": {
  "kernelspec": {
   "display_name": "Python 3",
   "language": "python",
   "name": "python3"
  },
  "language_info": {
   "codemirror_mode": {
    "name": "ipython",
    "version": 3
   },
   "file_extension": ".py",
   "mimetype": "text/x-python",
   "name": "python",
   "nbconvert_exporter": "python",
   "pygments_lexer": "ipython3",
   "version": "3.4.8"
  }
 },
 "nbformat": 4,
 "nbformat_minor": 2
}
