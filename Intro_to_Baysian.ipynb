{
 "cells": [
  {
   "cell_type": "markdown",
   "metadata": {},
   "source": [
    "# case study\n",
    "Lets say we are working for a social media company and there is a bad news coverage in the media about this company. We want to find if there is a change in user activity due to bad press. So, we plan an experiment where we take 70 days of user activity data- 35 days before and after news broke in the media. \n",
    "Our questions are:-\n",
    "1. Is there change in user activity during this 70 days period.\n",
    "2. If so, then when is the day that user activity started to change."
   ]
  },
  {
   "cell_type": "code",
   "execution_count": 20,
   "metadata": {},
   "outputs": [],
   "source": [
    "import numpy as np\n",
    "from IPython.core.pylabtools import figsize\n",
    "from matplotlib import pyplot as plt\n",
    "figsize(15, 4)"
   ]
  },
  {
   "cell_type": "code",
   "execution_count": 59,
   "metadata": {},
   "outputs": [],
   "source": [
    "mu1, sigma1 = 25, 2 # mean and standard deviation\n",
    "s1 = np.random.normal(mu1, sigma1, 45)\n",
    "mu2, sigma2 = 15, 2 # mean and standard deviation\n",
    "s2 = np.random.normal(mu2, sigma2, 25)"
   ]
  },
  {
   "cell_type": "code",
   "execution_count": 60,
   "metadata": {},
   "outputs": [
    {
     "data": {
      "text/plain": [
       "(10, 30)"
      ]
     },
     "execution_count": 60,
     "metadata": {},
     "output_type": "execute_result"
    },
    {
     "data": {
      "image/png": "[encoded data removed]",
      "text/plain": [
       "<Figure size 1080x288 with 1 Axes>"
      ]
     },
     "metadata": {
      "needs_background": "light"
     },
     "output_type": "display_data"
    }
   ],
   "source": [
    "data= np.concatenate([s1,s2])\n",
    "plt.bar(np.arange(70), data, color=\"#348ABD\")\n",
    "plt.xlabel(\"Time (days)\")\n",
    "plt.ylabel(\"count of text-msgs received\")\n",
    "plt.title(\"Artificial dataset\")\n",
    "plt.xlim(0, 70)\n",
    "plt.ylim(10,30)"
   ]
  },
  {
   "cell_type": "code",
   "execution_count": 61,
   "metadata": {},
   "outputs": [],
   "source": [
    "\n",
    "import pymc as pm\n",
    "\n",
    "alpha = 1.0 / data.mean()  # Recall count_data is the\n",
    "                               # variable that holds our txt counts\n",
    "lambda_1 = pm.Exponential(\"lambda_1\", alpha)\n",
    "lambda_2 = pm.Exponential(\"lambda_2\", alpha)\n",
    "\n",
    "tau = pm.DiscreteUniform(\"tau\", lower=0, upper=len(data))"
   ]
  },
  {
   "cell_type": "code",
   "execution_count": 62,
   "metadata": {},
   "outputs": [
    {
     "name": "stdout",
     "output_type": "stream",
     "text": [
      "lambda_1\n"
     ]
    }
   ],
   "source": [
    "print(lambda_1)"
   ]
  },
  {
   "cell_type": "code",
   "execution_count": 63,
   "metadata": {},
   "outputs": [
    {
     "name": "stdout",
     "output_type": "stream",
     "text": [
      " [-----------------100%-----------------] 40000 of 40000 complete in 8.0 sec"
     ]
    }
   ],
   "source": [
    "@pm.deterministic\n",
    "def lambda_(tau=tau, lambda_1=lambda_1, lambda_2=lambda_2):\n",
    "    out = np.zeros(len(data))\n",
    "    out[:tau] = lambda_1  # lambda before tau is lambda1\n",
    "    out[tau:] = lambda_2  # lambda after (and including) tau is lambda2\n",
    "    return out\n",
    "\n",
    "observation = pm.Poisson(\"obs\", lambda_, value=data, observed=True)\n",
    "\n",
    "model = pm.Model([observation, lambda_1, lambda_2, tau])\n",
    "\n",
    "\n",
    "# Mysterious code to be explained in Chapter 3.\n",
    "mcmc = pm.MCMC(model)\n",
    "mcmc.sample(40000, 10000, 1)\n"
   ]
  },
  {
   "cell_type": "code",
   "execution_count": 64,
   "metadata": {},
   "outputs": [],
   "source": [
    "lambda_1_samples = mcmc.trace('lambda_1')[:]\n",
    "lambda_2_samples = mcmc.trace('lambda_2')[:]\n",
    "tau_samples = mcmc.trace('tau')[:]"
   ]
  },
  {
   "cell_type": "code",
   "execution_count": 65,
   "metadata": {},
   "outputs": [
    {
     "data": {
      "text/plain": [
       "(array([   6.,   11.,   26.,   39.,  106.,  168.,  325.,  593.,  896.,\n",
       "        1352., 1953., 2311., 2557., 2958., 3149., 2892., 2533., 2281.,\n",
       "        1813., 1507.,  999.,  585.,  387.,  278.,  141.,   76.,   31.,\n",
       "          13.,    6.,    8.]),\n",
       " array([11.71875008, 11.9153379 , 12.11192571, 12.30851353, 12.50510134,\n",
       "        12.70168916, 12.89827697, 13.09486479, 13.2914526 , 13.48804042,\n",
       "        13.68462823, 13.88121605, 14.07780387, 14.27439168, 14.4709795 ,\n",
       "        14.66756731, 14.86415513, 15.06074294, 15.25733076, 15.45391857,\n",
       "        15.65050639, 15.8470942 , 16.04368202, 16.24026984, 16.43685765,\n",
       "        16.63344547, 16.83003328, 17.0266211 , 17.22320891, 17.41979673,\n",
       "        17.61638454]),\n",
       " <a list of 30 Patch objects>)"
      ]
     },
     "execution_count": 65,
     "metadata": {},
     "output_type": "execute_result"
    },
    {
     "data": {
      "image/png": "[encoded data removed]",
      "text/plain": [
       "<Figure size 1080x288 with 1 Axes>"
      ]
     },
     "metadata": {
      "needs_background": "light"
     },
     "output_type": "display_data"
    }
   ],
   "source": [
    "plt.hist(lambda_1_samples,bins=30)\n",
    "plt.hist(lambda_2_samples,bins=30)"
   ]
  },
  {
   "cell_type": "code",
   "execution_count": 66,
   "metadata": {},
   "outputs": [
    {
     "data": {
      "text/plain": [
       "(array([3.33333333e-05, 1.00000000e-04, 2.73333333e-03, 5.16666667e-03,\n",
       "        1.18333333e-02, 8.99833333e-01, 7.06000000e-02, 8.70000000e-03,\n",
       "        8.33333333e-04, 1.66666667e-04]),\n",
       " array([40. , 40.9, 41.8, 42.7, 43.6, 44.5, 45.4, 46.3, 47.2, 48.1, 49. ]),\n",
       " <a list of 10 Patch objects>)"
      ]
     },
     "execution_count": 66,
     "metadata": {},
     "output_type": "execute_result"
    },
    {
     "data": {
      "image/png": "[encoded data removed]",
      "text/plain": [
       "<Figure size 1080x288 with 1 Axes>"
      ]
     },
     "metadata": {
      "needs_background": "light"
     },
     "output_type": "display_data"
    }
   ],
   "source": [
    "w = 1.0 / tau_samples.shape[0] * np.ones_like(tau_samples)\n",
    "plt.hist(tau_samples, alpha=1,\n",
    "         label=r\"posterior of $\\tau$\",\n",
    "         color=\"#467821\", weights=w, rwidth=2.)"
   ]
  },
  {
   "cell_type": "code",
   "execution_count": null,
   "metadata": {},
   "outputs": [],
   "source": []
  }
 ],
 "metadata": {
  "kernelspec": {
   "display_name": "Python 3",
   "language": "python",
   "name": "python3"
  },
  "language_info": {
   "codemirror_mode": {
    "name": "ipython",
    "version": 3
   },
   "file_extension": ".py",
   "mimetype": "text/x-python",
   "name": "python",
   "nbconvert_exporter": "python",
   "pygments_lexer": "ipython3",
   "version": "3.4.8"
  }
 },
 "nbformat": 4,
 "nbformat_minor": 2
}
